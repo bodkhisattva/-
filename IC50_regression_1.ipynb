{
 "cells": [
  {
   "cell_type": "markdown",
   "id": "b90092bf-b64c-4fa6-a8ed-b4d930f61ae1",
   "metadata": {},
   "source": [
    "Задача регрессии (для IC50)"
   ]
  },
  {
   "cell_type": "code",
   "execution_count": 58,
   "id": "cb851ddb-9721-4749-92a6-09fb8c58fbcf",
   "metadata": {},
   "outputs": [
    {
     "name": "stdout",
     "output_type": "stream",
     "text": [
      "Среднее R2: 0.25480398195720105\n"
     ]
    }
   ],
   "source": [
    "from sklearn.linear_model import LinearRegression\n",
    "from sklearn.model_selection import cross_val_score #будем использовать кросс-валидацию, чтобы получить наиболее релевантные метрики\n",
    "\n",
    "model_linear = LinearRegression()\n",
    "\n",
    "model_linear.fit(X_train_ic, y_train_ic)\n",
    "pred_linear_ic = model_linear.predict(X_test_ic)\n",
    "\n",
    "scores_linear = cross_val_score(model_linear, X_train_ic, y_train_ic, cv=5, scoring='r2')\n",
    "print(\"Среднее R2:\", scores_linear.mean())"
   ]
  },
  {
   "cell_type": "code",
   "execution_count": 59,
   "id": "9d2fb914-8b44-4602-a7f2-3dfe545d3fa5",
   "metadata": {},
   "outputs": [
    {
     "name": "stdout",
     "output_type": "stream",
     "text": [
      "R2 на тесте: 0.3403781793341438\n"
     ]
    }
   ],
   "source": [
    "from sklearn.metrics import r2_score\n",
    "r2_test = r2_score(y_test_ic, pred_linear_ic)\n",
    "print(\"R2 на тесте:\", r2_test)"
   ]
  },
  {
   "cell_type": "code",
   "execution_count": 60,
   "id": "07e946f8-91dc-4e13-a676-c75c5243e83b",
   "metadata": {},
   "outputs": [
    {
     "name": "stdout",
     "output_type": "stream",
     "text": [
      "Среднее R2: 0.4370137227044751\n"
     ]
    }
   ],
   "source": [
    "from sklearn.ensemble import RandomForestRegressor\n",
    "\n",
    "model_forest = RandomForestRegressor()\n",
    "\n",
    "model_forest.fit(X_train_ic, y_train_ic)\n",
    "pred_forest_ic = model_forest.predict(X_test_ic)\n",
    "\n",
    "scores_forest = cross_val_score(model_forest, X_train_ic, y_train_ic, cv=5, scoring='r2')\n",
    "print(\"Среднее R2:\", scores_forest.mean())"
   ]
  },
  {
   "cell_type": "code",
   "execution_count": 61,
   "id": "e6eab129-294c-4509-9d5a-697672f6daa1",
   "metadata": {},
   "outputs": [
    {
     "name": "stdout",
     "output_type": "stream",
     "text": [
      "R2 на тесте: 0.39951600346802496\n"
     ]
    }
   ],
   "source": [
    "r2_test_for = r2_score(y_test_ic, pred_forest_ic)\n",
    "print(\"R2 на тесте:\", r2_test_for)"
   ]
  },
  {
   "cell_type": "code",
   "execution_count": 62,
   "id": "324ad34e-b730-42ed-bda1-3bf7b25055be",
   "metadata": {},
   "outputs": [
    {
     "name": "stdout",
     "output_type": "stream",
     "text": [
      "Среднее R2: 0.44055403013113936\n"
     ]
    }
   ],
   "source": [
    "from sklearn.ensemble import GradientBoostingRegressor\n",
    "\n",
    "model_grad = GradientBoostingRegressor()\n",
    "\n",
    "model_grad.fit(X_train_ic, y_train_ic)\n",
    "pred_grad_ic = model_grad.predict(X_test_ic)\n",
    "\n",
    "scores_grad = cross_val_score(model_grad, X_train_ic, y_train_ic, cv=5, scoring='r2')\n",
    "print(\"Среднее R2:\", scores_grad.mean())"
   ]
  },
  {
   "cell_type": "code",
   "execution_count": 63,
   "id": "a349be0e-ddf0-4d22-93be-1c148803f28d",
   "metadata": {},
   "outputs": [
    {
     "name": "stdout",
     "output_type": "stream",
     "text": [
      "R2 на тесте: 0.4397512398595178\n"
     ]
    }
   ],
   "source": [
    "r2_test_grad = r2_score(y_test_ic, pred_grad_ic)\n",
    "print(\"R2 на тесте:\", r2_test_grad)"
   ]
  },
  {
   "cell_type": "markdown",
   "id": "095f280a-7a11-4dfb-bc85-5c1a159fa256",
   "metadata": {},
   "source": [
    "Применение только алгоритмов машинного обучения даже при должной обработке и кросс-валидации дают крайне низкие результаты. В силу специфики поставленной задачи, возможно, работать со всеми химическими соединениями и биологическими классами подряд не совсем логично - они могут быть различными по типу соединения и молекулярной структуре, из-за чего работа с видами этих соединений по отдельности (применение к каждому виду алгоритмов машинного обучения) покажет лучший результат. Для решения задачи можно попробовать применить кластеризацию, и только после этого использовать алгоритмы машинного обучения, так как кластеризация способна выявить эти взаимосвязи."
   ]
  },
  {
   "cell_type": "code",
   "execution_count": 65,
   "id": "aac59e51-fb45-4cd3-b806-af1981920ac0",
   "metadata": {},
   "outputs": [
    {
     "name": "stderr",
     "output_type": "stream",
     "text": [
      "C:\\Users\\dfu\\anaconda3\\Lib\\site-packages\\sklearn\\cluster\\_kmeans.py:1446: UserWarning: KMeans is known to have a memory leak on Windows with MKL, when there are less chunks than available threads. You can avoid it by setting the environment variable OMP_NUM_THREADS=3.\n",
      "  warnings.warn(\n"
     ]
    }
   ],
   "source": [
    "from sklearn.cluster import KMeans\n",
    "\n",
    "kmeans_ic = KMeans(n_clusters=3, random_state=42)\n",
    "kmeans_ic.fit(X_train_ic)\n",
    "\n",
    "train_clusters = kmeans_ic.predict(X_train_ic)\n",
    "test_clusters = kmeans_ic.predict(X_test_ic)"
   ]
  },
  {
   "cell_type": "markdown",
   "id": "9b70ae6b-d839-447e-a63d-1d250b18a961",
   "metadata": {},
   "source": [
    "Чтобы посчитать метрики на каждом кластере, будем использовать функцию. Также внутри этой функции будем делить загруженные в функции выборки снова на train и test, чтобы предотвратить завышение метрик."
   ]
  },
  {
   "cell_type": "code",
   "execution_count": 67,
   "id": "a3142f65-0cb1-428c-a116-9620d7e604d3",
   "metadata": {},
   "outputs": [
    {
     "name": "stdout",
     "output_type": "stream",
     "text": [
      "\n",
      "Метрики по кластерам:\n",
      "| Выборка   |   Кластер |   Размер Train в функции |   Размер Val в функции |   MAE |    MSE |      R2 |\n",
      "|:----------|----------:|-------------------------:|-----------------------:|------:|-------:|--------:|\n",
      "| Train_ic  |         0 |                      109 |                     47 | 0.635 |  0.721 |  -0.695 |\n",
      "| Train_ic  |         1 |                      192 |                     83 | 0.689 |  0.891 |  -0.185 |\n",
      "| Train_ic  |         2 |                      188 |                     81 | 0.725 |  0.768 |   0.500 |\n",
      "| Test_ic   |         0 |                       42 |                     18 | 2.918 | 21.759 | -74.195 |\n",
      "| Test_ic   |         1 |                       67 |                     29 | 1.721 |  4.823 |  -4.857 |\n",
      "| Test_ic   |         2 |                      101 |                     44 | 1.215 |  2.645 |  -1.199 |\n"
     ]
    }
   ],
   "source": [
    "from sklearn.metrics import mean_absolute_error, mean_squared_error, r2_score\n",
    "\n",
    "def evaluate_clusters(X, y, clusters, set_name):\n",
    "    results = []\n",
    "    for cluster_id in np.unique(clusters):\n",
    "        mask = clusters == cluster_id  #используем маску, чтобы обеспечить соответствие кластеров в X и y выборках\n",
    "        X_cluster = X[mask]\n",
    "        y_cluster = y[mask]\n",
    "        \n",
    "        if len(X_cluster) > 10: \n",
    "            X_train_cl, X_val_cl, y_train_cl, y_val_cl = train_test_split(\n",
    "                X_cluster, y_cluster, test_size=0.3, random_state=42\n",
    "            )\n",
    "            model = LinearRegression().fit(X_train_cl, y_train_cl)\n",
    "            y_pred = model.predict(X_val_cl)\n",
    "            \n",
    "            metrics = {\n",
    "                'Выборка': set_name,\n",
    "                'Кластер': cluster_id,\n",
    "                'Размер Train в функции': len(y_train_cl),\n",
    "                'Размер Val в функции': len(y_val_cl),\n",
    "                'MAE': mean_absolute_error(y_val_cl, y_pred),\n",
    "                'MSE': mean_squared_error(y_val_cl, y_pred),\n",
    "                'R2': r2_score(y_val_cl, y_pred)\n",
    "            }\n",
    "            results.append(metrics)\n",
    "    \n",
    "    return pd.DataFrame(results)\n",
    "\n",
    "train_metrics = evaluate_clusters(X_train_ic, y_train_ic, train_clusters, \"Train_ic\")\n",
    "test_metrics = evaluate_clusters(X_test_ic, y_test_ic, test_clusters, \"Test_ic\")\n",
    "\n",
    "all_metrics = pd.concat([train_metrics, test_metrics], ignore_index=True)\n",
    "\n",
    "print(\"\\nМетрики по кластерам:\")\n",
    "print(all_metrics.to_markdown(index=False, floatfmt=\".3f\"))"
   ]
  },
  {
   "cell_type": "code",
   "execution_count": 68,
   "id": "24238b47-e5ef-4506-a566-210d99040aca",
   "metadata": {},
   "outputs": [
    {
     "name": "stdout",
     "output_type": "stream",
     "text": [
      "\n",
      "Метрики по кластерам:\n",
      "| Выборка   |   Кластер |   Размер Train в функции |   Размер Val в функции |   MAE |   MSE |     R2 |\n",
      "|:----------|----------:|-------------------------:|-----------------------:|------:|------:|-------:|\n",
      "| Train_ic  |         0 |                      109 |                     47 | 0.477 | 0.335 |  0.212 |\n",
      "| Train_ic  |         1 |                      192 |                     83 | 0.602 | 0.596 |  0.207 |\n",
      "| Train_ic  |         2 |                      188 |                     81 | 0.634 | 0.578 |  0.624 |\n",
      "| Test_ic   |         0 |                       42 |                     18 | 0.680 | 0.611 | -1.111 |\n",
      "| Test_ic   |         1 |                       67 |                     29 | 0.706 | 0.851 | -0.033 |\n",
      "| Test_ic   |         2 |                      101 |                     44 | 0.720 | 1.058 |  0.121 |\n"
     ]
    }
   ],
   "source": [
    "def evaluate_clusters_for(X, y, clusters, set_name):\n",
    "    results = []\n",
    "    for cluster_id in np.unique(clusters):\n",
    "        mask = clusters == cluster_id\n",
    "        X_cluster = X[mask]\n",
    "        y_cluster = y[mask]\n",
    "        \n",
    "        if len(X_cluster) > 10:  \n",
    "            X_train_cl, X_val_cl, y_train_cl, y_val_cl = train_test_split(\n",
    "                X_cluster, y_cluster, test_size=0.3, random_state=42\n",
    "            )\n",
    "            model = GradientBoostingRegressor().fit(X_train_cl, y_train_cl)\n",
    "            y_pred = model.predict(X_val_cl)\n",
    "            \n",
    "            metrics = {\n",
    "                'Выборка': set_name,\n",
    "                'Кластер': cluster_id,\n",
    "                'Размер Train в функции': len(y_train_cl),\n",
    "                'Размер Val в функции': len(y_val_cl),\n",
    "                'MAE': mean_absolute_error(y_val_cl, y_pred),\n",
    "                'MSE': mean_squared_error(y_val_cl, y_pred),\n",
    "                'R2': r2_score(y_val_cl, y_pred)\n",
    "            }\n",
    "            results.append(metrics)\n",
    "    \n",
    "    return pd.DataFrame(results)\n",
    "\n",
    "train_metrics_for = evaluate_clusters_for(X_train_ic, y_train_ic, train_clusters, \"Train_ic\")\n",
    "test_metrics_for = evaluate_clusters_for(X_test_ic, y_test_ic, test_clusters, \"Test_ic\")\n",
    "\n",
    "all_metrics_for = pd.concat([train_metrics_for, test_metrics_for], ignore_index=True)\n",
    "\n",
    "print(\"\\nМетрики по кластерам:\")\n",
    "print(all_metrics_for.to_markdown(index=False, floatfmt=\".3f\"))"
   ]
  },
  {
   "cell_type": "code",
   "execution_count": 69,
   "id": "2a55c460-23e4-4d44-82c4-d58705eed8bd",
   "metadata": {},
   "outputs": [
    {
     "name": "stdout",
     "output_type": "stream",
     "text": [
      "\n",
      "Метрики по кластерам:\n",
      "| Выборка   |   Кластер |   Размер Train в функции |   Размер Val в функции |   MAE |   MSE |     R2 |\n",
      "|:----------|----------:|-------------------------:|-----------------------:|------:|------:|-------:|\n",
      "| Train_ic  |         0 |                      109 |                     47 | 0.448 | 0.295 |  0.306 |\n",
      "| Train_ic  |         1 |                      192 |                     83 | 0.579 | 0.554 |  0.263 |\n",
      "| Train_ic  |         2 |                      188 |                     81 | 0.600 | 0.509 |  0.669 |\n",
      "| Test_ic   |         0 |                       42 |                     18 | 0.567 | 0.484 | -0.671 |\n",
      "| Test_ic   |         1 |                       67 |                     29 | 0.713 | 0.806 |  0.022 |\n",
      "| Test_ic   |         2 |                      101 |                     44 | 0.701 | 0.922 |  0.234 |\n"
     ]
    }
   ],
   "source": [
    "def evaluate_clusters_grad(X, y, clusters, set_name):\n",
    "    results = []\n",
    "    for cluster_id in np.unique(clusters):\n",
    "        mask = clusters == cluster_id\n",
    "        X_cluster = X[mask]\n",
    "        y_cluster = y[mask]\n",
    "        \n",
    "        if len(X_cluster) > 10:  \n",
    "            X_train_cl, X_val_cl, y_train_cl, y_val_cl = train_test_split(\n",
    "                X_cluster, y_cluster, test_size=0.3, random_state=42\n",
    "            )\n",
    "            model = RandomForestRegressor().fit(X_train_cl, y_train_cl)\n",
    "            y_pred = model.predict(X_val_cl)\n",
    "            \n",
    "            metrics = {\n",
    "                'Выборка': set_name,\n",
    "                'Кластер': cluster_id,\n",
    "                'Размер Train в функции': len(y_train_cl),\n",
    "                'Размер Val в функции': len(y_val_cl),\n",
    "                'MAE': mean_absolute_error(y_val_cl, y_pred),\n",
    "                'MSE': mean_squared_error(y_val_cl, y_pred),\n",
    "                'R2': r2_score(y_val_cl, y_pred)\n",
    "            }\n",
    "            results.append(metrics)\n",
    "    \n",
    "    return pd.DataFrame(results)\n",
    "\n",
    "train_metrics_grad = evaluate_clusters_grad(X_train_ic, y_train_ic, train_clusters, \"Train_ic\")\n",
    "test_metrics_grad = evaluate_clusters_grad(X_test_ic, y_test_ic, test_clusters, \"Test_ic\")\n",
    "\n",
    "all_metrics_grad = pd.concat([train_metrics_grad, test_metrics_grad], ignore_index=True)\n",
    "\n",
    "print(\"\\nМетрики по кластерам:\")\n",
    "print(all_metrics_grad.to_markdown(index=False, floatfmt=\".3f\"))"
   ]
  },
  {
   "cell_type": "code",
   "execution_count": 70,
   "id": "2b8334ec-efac-4898-857a-1e811b29c557",
   "metadata": {},
   "outputs": [
    {
     "name": "stderr",
     "output_type": "stream",
     "text": [
      "C:\\Users\\dfu\\anaconda3\\Lib\\site-packages\\sklearn\\cluster\\_kmeans.py:1446: UserWarning: KMeans is known to have a memory leak on Windows with MKL, when there are less chunks than available threads. You can avoid it by setting the environment variable OMP_NUM_THREADS=3.\n",
      "  warnings.warn(\n"
     ]
    }
   ],
   "source": [
    "kmeans_cc = KMeans(n_clusters=3, random_state=42)\n",
    "kmeans_cc.fit(X_train_cc)\n",
    "\n",
    "train_clusters_cc = kmeans_cc.predict(X_train_cc)\n",
    "test_clusters_cc = kmeans_cc.predict(X_test_cc)"
   ]
  },
  {
   "cell_type": "code",
   "execution_count": 71,
   "id": "f60bc557-2a35-43e4-a1d6-9ea30e98dbe3",
   "metadata": {},
   "outputs": [
    {
     "name": "stdout",
     "output_type": "stream",
     "text": [
      "\n",
      "Метрики по кластерам:\n",
      "| Выборка   |   Кластер |   Размер Train в функции |   Размер Val в функции |   MAE |   MSE |     R2 |\n",
      "|:----------|----------:|-------------------------:|-----------------------:|------:|------:|-------:|\n",
      "| Train_ic  |         0 |                      102 |                     44 | 0.473 | 0.391 |  0.170 |\n",
      "| Train_ic  |         1 |                      355 |                    153 | 0.443 | 0.356 |  0.405 |\n",
      "| Train_ic  |         2 |                       32 |                     14 | 0.694 | 0.697 |  0.187 |\n",
      "| Test_ic   |         0 |                       35 |                     16 | 0.501 | 0.351 | -0.374 |\n",
      "| Test_ic   |         1 |                      159 |                     69 | 0.438 | 0.301 |  0.081 |\n",
      "| Test_ic   |         2 |                       15 |                      7 | 0.514 | 0.374 |  0.316 |\n"
     ]
    }
   ],
   "source": [
    "train_metrics_grad_cc = evaluate_clusters_grad(X_train_cc, y_train_cc, train_clusters_cc, \"Train_ic\")\n",
    "test_metrics_grad_cc = evaluate_clusters_grad(X_test_cc, y_test_cc, test_clusters_cc, \"Test_ic\")\n",
    "\n",
    "all_metrics_grad_cc = pd.concat([train_metrics_grad_cc, test_metrics_grad_cc], ignore_index=True)\n",
    "\n",
    "print(\"\\nМетрики по кластерам:\")\n",
    "print(all_metrics_grad_cc.to_markdown(index=False, floatfmt=\".3f\"))"
   ]
  },
  {
   "cell_type": "code",
   "execution_count": 72,
   "id": "09d7234b-f5c4-4cf9-9736-44393f71c356",
   "metadata": {},
   "outputs": [
    {
     "name": "stderr",
     "output_type": "stream",
     "text": [
      "C:\\Users\\dfu\\anaconda3\\Lib\\site-packages\\sklearn\\cluster\\_kmeans.py:1446: UserWarning: KMeans is known to have a memory leak on Windows with MKL, when there are less chunks than available threads. You can avoid it by setting the environment variable OMP_NUM_THREADS=3.\n",
      "  warnings.warn(\n"
     ]
    }
   ],
   "source": [
    "kmeans_si = KMeans(n_clusters=3, random_state=42)\n",
    "kmeans_si.fit(X_train_si)\n",
    "\n",
    "train_clusters_si = kmeans_si.predict(X_train_si)\n",
    "test_clusters_si = kmeans_si.predict(X_test_si)"
   ]
  },
  {
   "cell_type": "code",
   "execution_count": 73,
   "id": "01af09e3-2d05-466c-b536-1cf3a7698ef1",
   "metadata": {},
   "outputs": [
    {
     "name": "stdout",
     "output_type": "stream",
     "text": [
      "\n",
      "Метрики по кластерам:\n",
      "| Выборка   |   Кластер |   Размер Train в функции |   Размер Val в функции |   MAE |   MSE |     R2 |\n",
      "|:----------|----------:|-------------------------:|-----------------------:|------:|------:|-------:|\n",
      "| Train_ic  |         0 |                       86 |                     37 | 0.536 | 0.399 |  0.234 |\n",
      "| Train_ic  |         1 |                      207 |                     90 | 0.546 | 0.495 |  0.079 |\n",
      "| Train_ic  |         2 |                      196 |                     84 | 0.554 | 0.453 |  0.105 |\n",
      "| Test_ic   |         0 |                       37 |                     16 | 0.486 | 0.387 | -0.363 |\n",
      "| Test_ic   |         1 |                      100 |                     44 | 0.605 | 0.632 | -0.125 |\n",
      "| Test_ic   |         2 |                       72 |                     32 | 0.559 | 0.512 |  0.060 |\n"
     ]
    }
   ],
   "source": [
    "train_metrics_grad_si = evaluate_clusters_grad(X_train_si, y_train_si, train_clusters_si, \"Train_ic\")\n",
    "test_metrics_grad_si = evaluate_clusters_grad(X_test_si, y_test_si, test_clusters_si, \"Test_ic\")\n",
    "\n",
    "all_metrics_grad_si = pd.concat([train_metrics_grad_si, test_metrics_grad_si], ignore_index=True)\n",
    "\n",
    "print(\"\\nМетрики по кластерам:\")\n",
    "print(all_metrics_grad_si.to_markdown(index=False, floatfmt=\".3f\"))"
   ]
  },
  {
   "cell_type": "markdown",
   "id": "71f96291-ab38-4cef-a156-3ce3bfab233e",
   "metadata": {},
   "source": [
    "Использование различных алгоритмов машинного обучения с учителем в сочетании с кластеризацией не дало нужных результатов - R2 ниже нуля, только местами метрики становятся относительно приемлемыми. Данное решение может быть приемлемым, если нужно в процессе исследования данных выделить некотрые наиболее важные физико-химические параметры отдельных кластеров и вывести их с помощью feature_importance. Однако из-за общих плохих оценок, можно сделать вывод, что кластеризация в поставленных задачах не поможет улучшить результат. Следовательно, выберем наиболее эффективный алгоритм для каждой отдельной задачи регрессии без кластеризации. В задаче для IC50 лучше всего показал себя алгоритм градиентного бустинга. Подберем для него лучшие гиперпараметры с помощью RandomizedSearch. Попробуем различные алгоритмы на других задачах регрессии."
   ]
  },
  {
   "cell_type": "code",
   "execution_count": 75,
   "id": "a50f83da-dee6-4a96-945e-a29fa6f37b4d",
   "metadata": {},
   "outputs": [
    {
     "name": "stdout",
     "output_type": "stream",
     "text": [
      "Лучшие параметры: {'learning_rate': 0.11753971856328177, 'max_depth': 3, 'n_estimators': 77}\n"
     ]
    }
   ],
   "source": [
    "from sklearn.model_selection import RandomizedSearchCV\n",
    "from scipy.stats import randint, uniform\n",
    "\n",
    "param_dist = {\n",
    "    'n_estimators': randint(50, 300),\n",
    "    'max_depth': randint(3, 10),\n",
    "    'learning_rate': uniform(0.01, 0.3),  # случайное число от 0.01 до 0.31\n",
    "}\n",
    "\n",
    "random_search = RandomizedSearchCV(\n",
    "    estimator=GradientBoostingRegressor(),\n",
    "    param_distributions=param_dist,\n",
    "    n_iter=50,       # сколько комбинаций попробовать\n",
    "    cv=5,\n",
    "    scoring='r2',\n",
    "    n_jobs=-1,\n",
    "    random_state=42\n",
    ")\n",
    "\n",
    "random_search.fit(X_train_ic, y_train_ic)\n",
    "\n",
    "print(\"Лучшие параметры:\", random_search.best_params_)"
   ]
  },
  {
   "cell_type": "code",
   "execution_count": 76,
   "id": "080b462f-e0f5-4bfd-bb83-d122855e4c5c",
   "metadata": {},
   "outputs": [
    {
     "data": {
      "text/html": [
       "<style>#sk-container-id-1 {\n",
       "  /* Definition of color scheme common for light and dark mode */\n",
       "  --sklearn-color-text: black;\n",
       "  --sklearn-color-line: gray;\n",
       "  /* Definition of color scheme for unfitted estimators */\n",
       "  --sklearn-color-unfitted-level-0: #fff5e6;\n",
       "  --sklearn-color-unfitted-level-1: #f6e4d2;\n",
       "  --sklearn-color-unfitted-level-2: #ffe0b3;\n",
       "  --sklearn-color-unfitted-level-3: chocolate;\n",
       "  /* Definition of color scheme for fitted estimators */\n",
       "  --sklearn-color-fitted-level-0: #f0f8ff;\n",
       "  --sklearn-color-fitted-level-1: #d4ebff;\n",
       "  --sklearn-color-fitted-level-2: #b3dbfd;\n",
       "  --sklearn-color-fitted-level-3: cornflowerblue;\n",
       "\n",
       "  /* Specific color for light theme */\n",
       "  --sklearn-color-text-on-default-background: var(--sg-text-color, var(--theme-code-foreground, var(--jp-content-font-color1, black)));\n",
       "  --sklearn-color-background: var(--sg-background-color, var(--theme-background, var(--jp-layout-color0, white)));\n",
       "  --sklearn-color-border-box: var(--sg-text-color, var(--theme-code-foreground, var(--jp-content-font-color1, black)));\n",
       "  --sklearn-color-icon: #696969;\n",
       "\n",
       "  @media (prefers-color-scheme: dark) {\n",
       "    /* Redefinition of color scheme for dark theme */\n",
       "    --sklearn-color-text-on-default-background: var(--sg-text-color, var(--theme-code-foreground, var(--jp-content-font-color1, white)));\n",
       "    --sklearn-color-background: var(--sg-background-color, var(--theme-background, var(--jp-layout-color0, #111)));\n",
       "    --sklearn-color-border-box: var(--sg-text-color, var(--theme-code-foreground, var(--jp-content-font-color1, white)));\n",
       "    --sklearn-color-icon: #878787;\n",
       "  }\n",
       "}\n",
       "\n",
       "#sk-container-id-1 {\n",
       "  color: var(--sklearn-color-text);\n",
       "}\n",
       "\n",
       "#sk-container-id-1 pre {\n",
       "  padding: 0;\n",
       "}\n",
       "\n",
       "#sk-container-id-1 input.sk-hidden--visually {\n",
       "  border: 0;\n",
       "  clip: rect(1px 1px 1px 1px);\n",
       "  clip: rect(1px, 1px, 1px, 1px);\n",
       "  height: 1px;\n",
       "  margin: -1px;\n",
       "  overflow: hidden;\n",
       "  padding: 0;\n",
       "  position: absolute;\n",
       "  width: 1px;\n",
       "}\n",
       "\n",
       "#sk-container-id-1 div.sk-dashed-wrapped {\n",
       "  border: 1px dashed var(--sklearn-color-line);\n",
       "  margin: 0 0.4em 0.5em 0.4em;\n",
       "  box-sizing: border-box;\n",
       "  padding-bottom: 0.4em;\n",
       "  background-color: var(--sklearn-color-background);\n",
       "}\n",
       "\n",
       "#sk-container-id-1 div.sk-container {\n",
       "  /* jupyter's `normalize.less` sets `[hidden] { display: none; }`\n",
       "     but bootstrap.min.css set `[hidden] { display: none !important; }`\n",
       "     so we also need the `!important` here to be able to override the\n",
       "     default hidden behavior on the sphinx rendered scikit-learn.org.\n",
       "     See: https://github.com/scikit-learn/scikit-learn/issues/21755 */\n",
       "  display: inline-block !important;\n",
       "  position: relative;\n",
       "}\n",
       "\n",
       "#sk-container-id-1 div.sk-text-repr-fallback {\n",
       "  display: none;\n",
       "}\n",
       "\n",
       "div.sk-parallel-item,\n",
       "div.sk-serial,\n",
       "div.sk-item {\n",
       "  /* draw centered vertical line to link estimators */\n",
       "  background-image: linear-gradient(var(--sklearn-color-text-on-default-background), var(--sklearn-color-text-on-default-background));\n",
       "  background-size: 2px 100%;\n",
       "  background-repeat: no-repeat;\n",
       "  background-position: center center;\n",
       "}\n",
       "\n",
       "/* Parallel-specific style estimator block */\n",
       "\n",
       "#sk-container-id-1 div.sk-parallel-item::after {\n",
       "  content: \"\";\n",
       "  width: 100%;\n",
       "  border-bottom: 2px solid var(--sklearn-color-text-on-default-background);\n",
       "  flex-grow: 1;\n",
       "}\n",
       "\n",
       "#sk-container-id-1 div.sk-parallel {\n",
       "  display: flex;\n",
       "  align-items: stretch;\n",
       "  justify-content: center;\n",
       "  background-color: var(--sklearn-color-background);\n",
       "  position: relative;\n",
       "}\n",
       "\n",
       "#sk-container-id-1 div.sk-parallel-item {\n",
       "  display: flex;\n",
       "  flex-direction: column;\n",
       "}\n",
       "\n",
       "#sk-container-id-1 div.sk-parallel-item:first-child::after {\n",
       "  align-self: flex-end;\n",
       "  width: 50%;\n",
       "}\n",
       "\n",
       "#sk-container-id-1 div.sk-parallel-item:last-child::after {\n",
       "  align-self: flex-start;\n",
       "  width: 50%;\n",
       "}\n",
       "\n",
       "#sk-container-id-1 div.sk-parallel-item:only-child::after {\n",
       "  width: 0;\n",
       "}\n",
       "\n",
       "/* Serial-specific style estimator block */\n",
       "\n",
       "#sk-container-id-1 div.sk-serial {\n",
       "  display: flex;\n",
       "  flex-direction: column;\n",
       "  align-items: center;\n",
       "  background-color: var(--sklearn-color-background);\n",
       "  padding-right: 1em;\n",
       "  padding-left: 1em;\n",
       "}\n",
       "\n",
       "\n",
       "/* Toggleable style: style used for estimator/Pipeline/ColumnTransformer box that is\n",
       "clickable and can be expanded/collapsed.\n",
       "- Pipeline and ColumnTransformer use this feature and define the default style\n",
       "- Estimators will overwrite some part of the style using the `sk-estimator` class\n",
       "*/\n",
       "\n",
       "/* Pipeline and ColumnTransformer style (default) */\n",
       "\n",
       "#sk-container-id-1 div.sk-toggleable {\n",
       "  /* Default theme specific background. It is overwritten whether we have a\n",
       "  specific estimator or a Pipeline/ColumnTransformer */\n",
       "  background-color: var(--sklearn-color-background);\n",
       "}\n",
       "\n",
       "/* Toggleable label */\n",
       "#sk-container-id-1 label.sk-toggleable__label {\n",
       "  cursor: pointer;\n",
       "  display: block;\n",
       "  width: 100%;\n",
       "  margin-bottom: 0;\n",
       "  padding: 0.5em;\n",
       "  box-sizing: border-box;\n",
       "  text-align: center;\n",
       "}\n",
       "\n",
       "#sk-container-id-1 label.sk-toggleable__label-arrow:before {\n",
       "  /* Arrow on the left of the label */\n",
       "  content: \"▸\";\n",
       "  float: left;\n",
       "  margin-right: 0.25em;\n",
       "  color: var(--sklearn-color-icon);\n",
       "}\n",
       "\n",
       "#sk-container-id-1 label.sk-toggleable__label-arrow:hover:before {\n",
       "  color: var(--sklearn-color-text);\n",
       "}\n",
       "\n",
       "/* Toggleable content - dropdown */\n",
       "\n",
       "#sk-container-id-1 div.sk-toggleable__content {\n",
       "  max-height: 0;\n",
       "  max-width: 0;\n",
       "  overflow: hidden;\n",
       "  text-align: left;\n",
       "  /* unfitted */\n",
       "  background-color: var(--sklearn-color-unfitted-level-0);\n",
       "}\n",
       "\n",
       "#sk-container-id-1 div.sk-toggleable__content.fitted {\n",
       "  /* fitted */\n",
       "  background-color: var(--sklearn-color-fitted-level-0);\n",
       "}\n",
       "\n",
       "#sk-container-id-1 div.sk-toggleable__content pre {\n",
       "  margin: 0.2em;\n",
       "  border-radius: 0.25em;\n",
       "  color: var(--sklearn-color-text);\n",
       "  /* unfitted */\n",
       "  background-color: var(--sklearn-color-unfitted-level-0);\n",
       "}\n",
       "\n",
       "#sk-container-id-1 div.sk-toggleable__content.fitted pre {\n",
       "  /* unfitted */\n",
       "  background-color: var(--sklearn-color-fitted-level-0);\n",
       "}\n",
       "\n",
       "#sk-container-id-1 input.sk-toggleable__control:checked~div.sk-toggleable__content {\n",
       "  /* Expand drop-down */\n",
       "  max-height: 200px;\n",
       "  max-width: 100%;\n",
       "  overflow: auto;\n",
       "}\n",
       "\n",
       "#sk-container-id-1 input.sk-toggleable__control:checked~label.sk-toggleable__label-arrow:before {\n",
       "  content: \"▾\";\n",
       "}\n",
       "\n",
       "/* Pipeline/ColumnTransformer-specific style */\n",
       "\n",
       "#sk-container-id-1 div.sk-label input.sk-toggleable__control:checked~label.sk-toggleable__label {\n",
       "  color: var(--sklearn-color-text);\n",
       "  background-color: var(--sklearn-color-unfitted-level-2);\n",
       "}\n",
       "\n",
       "#sk-container-id-1 div.sk-label.fitted input.sk-toggleable__control:checked~label.sk-toggleable__label {\n",
       "  background-color: var(--sklearn-color-fitted-level-2);\n",
       "}\n",
       "\n",
       "/* Estimator-specific style */\n",
       "\n",
       "/* Colorize estimator box */\n",
       "#sk-container-id-1 div.sk-estimator input.sk-toggleable__control:checked~label.sk-toggleable__label {\n",
       "  /* unfitted */\n",
       "  background-color: var(--sklearn-color-unfitted-level-2);\n",
       "}\n",
       "\n",
       "#sk-container-id-1 div.sk-estimator.fitted input.sk-toggleable__control:checked~label.sk-toggleable__label {\n",
       "  /* fitted */\n",
       "  background-color: var(--sklearn-color-fitted-level-2);\n",
       "}\n",
       "\n",
       "#sk-container-id-1 div.sk-label label.sk-toggleable__label,\n",
       "#sk-container-id-1 div.sk-label label {\n",
       "  /* The background is the default theme color */\n",
       "  color: var(--sklearn-color-text-on-default-background);\n",
       "}\n",
       "\n",
       "/* On hover, darken the color of the background */\n",
       "#sk-container-id-1 div.sk-label:hover label.sk-toggleable__label {\n",
       "  color: var(--sklearn-color-text);\n",
       "  background-color: var(--sklearn-color-unfitted-level-2);\n",
       "}\n",
       "\n",
       "/* Label box, darken color on hover, fitted */\n",
       "#sk-container-id-1 div.sk-label.fitted:hover label.sk-toggleable__label.fitted {\n",
       "  color: var(--sklearn-color-text);\n",
       "  background-color: var(--sklearn-color-fitted-level-2);\n",
       "}\n",
       "\n",
       "/* Estimator label */\n",
       "\n",
       "#sk-container-id-1 div.sk-label label {\n",
       "  font-family: monospace;\n",
       "  font-weight: bold;\n",
       "  display: inline-block;\n",
       "  line-height: 1.2em;\n",
       "}\n",
       "\n",
       "#sk-container-id-1 div.sk-label-container {\n",
       "  text-align: center;\n",
       "}\n",
       "\n",
       "/* Estimator-specific */\n",
       "#sk-container-id-1 div.sk-estimator {\n",
       "  font-family: monospace;\n",
       "  border: 1px dotted var(--sklearn-color-border-box);\n",
       "  border-radius: 0.25em;\n",
       "  box-sizing: border-box;\n",
       "  margin-bottom: 0.5em;\n",
       "  /* unfitted */\n",
       "  background-color: var(--sklearn-color-unfitted-level-0);\n",
       "}\n",
       "\n",
       "#sk-container-id-1 div.sk-estimator.fitted {\n",
       "  /* fitted */\n",
       "  background-color: var(--sklearn-color-fitted-level-0);\n",
       "}\n",
       "\n",
       "/* on hover */\n",
       "#sk-container-id-1 div.sk-estimator:hover {\n",
       "  /* unfitted */\n",
       "  background-color: var(--sklearn-color-unfitted-level-2);\n",
       "}\n",
       "\n",
       "#sk-container-id-1 div.sk-estimator.fitted:hover {\n",
       "  /* fitted */\n",
       "  background-color: var(--sklearn-color-fitted-level-2);\n",
       "}\n",
       "\n",
       "/* Specification for estimator info (e.g. \"i\" and \"?\") */\n",
       "\n",
       "/* Common style for \"i\" and \"?\" */\n",
       "\n",
       ".sk-estimator-doc-link,\n",
       "a:link.sk-estimator-doc-link,\n",
       "a:visited.sk-estimator-doc-link {\n",
       "  float: right;\n",
       "  font-size: smaller;\n",
       "  line-height: 1em;\n",
       "  font-family: monospace;\n",
       "  background-color: var(--sklearn-color-background);\n",
       "  border-radius: 1em;\n",
       "  height: 1em;\n",
       "  width: 1em;\n",
       "  text-decoration: none !important;\n",
       "  margin-left: 1ex;\n",
       "  /* unfitted */\n",
       "  border: var(--sklearn-color-unfitted-level-1) 1pt solid;\n",
       "  color: var(--sklearn-color-unfitted-level-1);\n",
       "}\n",
       "\n",
       ".sk-estimator-doc-link.fitted,\n",
       "a:link.sk-estimator-doc-link.fitted,\n",
       "a:visited.sk-estimator-doc-link.fitted {\n",
       "  /* fitted */\n",
       "  border: var(--sklearn-color-fitted-level-1) 1pt solid;\n",
       "  color: var(--sklearn-color-fitted-level-1);\n",
       "}\n",
       "\n",
       "/* On hover */\n",
       "div.sk-estimator:hover .sk-estimator-doc-link:hover,\n",
       ".sk-estimator-doc-link:hover,\n",
       "div.sk-label-container:hover .sk-estimator-doc-link:hover,\n",
       ".sk-estimator-doc-link:hover {\n",
       "  /* unfitted */\n",
       "  background-color: var(--sklearn-color-unfitted-level-3);\n",
       "  color: var(--sklearn-color-background);\n",
       "  text-decoration: none;\n",
       "}\n",
       "\n",
       "div.sk-estimator.fitted:hover .sk-estimator-doc-link.fitted:hover,\n",
       ".sk-estimator-doc-link.fitted:hover,\n",
       "div.sk-label-container:hover .sk-estimator-doc-link.fitted:hover,\n",
       ".sk-estimator-doc-link.fitted:hover {\n",
       "  /* fitted */\n",
       "  background-color: var(--sklearn-color-fitted-level-3);\n",
       "  color: var(--sklearn-color-background);\n",
       "  text-decoration: none;\n",
       "}\n",
       "\n",
       "/* Span, style for the box shown on hovering the info icon */\n",
       ".sk-estimator-doc-link span {\n",
       "  display: none;\n",
       "  z-index: 9999;\n",
       "  position: relative;\n",
       "  font-weight: normal;\n",
       "  right: .2ex;\n",
       "  padding: .5ex;\n",
       "  margin: .5ex;\n",
       "  width: min-content;\n",
       "  min-width: 20ex;\n",
       "  max-width: 50ex;\n",
       "  color: var(--sklearn-color-text);\n",
       "  box-shadow: 2pt 2pt 4pt #999;\n",
       "  /* unfitted */\n",
       "  background: var(--sklearn-color-unfitted-level-0);\n",
       "  border: .5pt solid var(--sklearn-color-unfitted-level-3);\n",
       "}\n",
       "\n",
       ".sk-estimator-doc-link.fitted span {\n",
       "  /* fitted */\n",
       "  background: var(--sklearn-color-fitted-level-0);\n",
       "  border: var(--sklearn-color-fitted-level-3);\n",
       "}\n",
       "\n",
       ".sk-estimator-doc-link:hover span {\n",
       "  display: block;\n",
       "}\n",
       "\n",
       "/* \"?\"-specific style due to the `<a>` HTML tag */\n",
       "\n",
       "#sk-container-id-1 a.estimator_doc_link {\n",
       "  float: right;\n",
       "  font-size: 1rem;\n",
       "  line-height: 1em;\n",
       "  font-family: monospace;\n",
       "  background-color: var(--sklearn-color-background);\n",
       "  border-radius: 1rem;\n",
       "  height: 1rem;\n",
       "  width: 1rem;\n",
       "  text-decoration: none;\n",
       "  /* unfitted */\n",
       "  color: var(--sklearn-color-unfitted-level-1);\n",
       "  border: var(--sklearn-color-unfitted-level-1) 1pt solid;\n",
       "}\n",
       "\n",
       "#sk-container-id-1 a.estimator_doc_link.fitted {\n",
       "  /* fitted */\n",
       "  border: var(--sklearn-color-fitted-level-1) 1pt solid;\n",
       "  color: var(--sklearn-color-fitted-level-1);\n",
       "}\n",
       "\n",
       "/* On hover */\n",
       "#sk-container-id-1 a.estimator_doc_link:hover {\n",
       "  /* unfitted */\n",
       "  background-color: var(--sklearn-color-unfitted-level-3);\n",
       "  color: var(--sklearn-color-background);\n",
       "  text-decoration: none;\n",
       "}\n",
       "\n",
       "#sk-container-id-1 a.estimator_doc_link.fitted:hover {\n",
       "  /* fitted */\n",
       "  background-color: var(--sklearn-color-fitted-level-3);\n",
       "}\n",
       "</style><div id=\"sk-container-id-1\" class=\"sk-top-container\"><div class=\"sk-text-repr-fallback\"><pre>GradientBoostingRegressor(learning_rate=0.11753971856328177, n_estimators=77,\n",
       "                          random_state=42)</pre><b>In a Jupyter environment, please rerun this cell to show the HTML representation or trust the notebook. <br />On GitHub, the HTML representation is unable to render, please try loading this page with nbviewer.org.</b></div><div class=\"sk-container\" hidden><div class=\"sk-item\"><div class=\"sk-estimator fitted sk-toggleable\"><input class=\"sk-toggleable__control sk-hidden--visually\" id=\"sk-estimator-id-1\" type=\"checkbox\" checked><label for=\"sk-estimator-id-1\" class=\"sk-toggleable__label fitted sk-toggleable__label-arrow fitted\">&nbsp;&nbsp;GradientBoostingRegressor<a class=\"sk-estimator-doc-link fitted\" rel=\"noreferrer\" target=\"_blank\" href=\"https://scikit-learn.org/1.4/modules/generated/sklearn.ensemble.GradientBoostingRegressor.html\">?<span>Documentation for GradientBoostingRegressor</span></a><span class=\"sk-estimator-doc-link fitted\">i<span>Fitted</span></span></label><div class=\"sk-toggleable__content fitted\"><pre>GradientBoostingRegressor(learning_rate=0.11753971856328177, n_estimators=77,\n",
       "                          random_state=42)</pre></div> </div></div></div></div>"
      ],
      "text/plain": [
       "GradientBoostingRegressor(learning_rate=0.11753971856328177, n_estimators=77,\n",
       "                          random_state=42)"
      ]
     },
     "execution_count": 76,
     "metadata": {},
     "output_type": "execute_result"
    }
   ],
   "source": [
    "grad_for_ic = GradientBoostingRegressor(\n",
    "    n_estimators = random_search.best_params_['n_estimators'],\n",
    "    max_depth = random_search.best_params_['max_depth'],\n",
    "    learning_rate = random_search.best_params_['learning_rate'],\n",
    "    random_state=42\n",
    ")\n",
    "grad_for_ic.fit(X_train_ic, y_train_ic)"
   ]
  },
  {
   "cell_type": "code",
   "execution_count": 77,
   "id": "356b607d-69b2-4ff7-af0e-ccbf7b6d39f2",
   "metadata": {
    "scrolled": true
   },
   "outputs": [],
   "source": [
    "grad_boost_ic = grad_for_ic.predict(X_test_ic)"
   ]
  },
  {
   "cell_type": "code",
   "execution_count": 78,
   "id": "20b4888e-0317-43ae-baaa-672ef2773a19",
   "metadata": {},
   "outputs": [
    {
     "name": "stdout",
     "output_type": "stream",
     "text": [
      "R2 на тесте: 0.4276572363509815\n"
     ]
    }
   ],
   "source": [
    "r2_test_grad_for_ic = r2_score(y_test_ic, grad_boost_ic )\n",
    "print(\"R2 на тесте:\", r2_test_grad_for_ic)"
   ]
  },
  {
   "cell_type": "markdown",
   "id": "4a670c82-2790-4bce-a130-50643d180c79",
   "metadata": {},
   "source": [
    "Метрика получилась довольно неплохой. Будем применять сочетание RandomizedSearch вместе с наиболее подходящими алгоритмами классического машинного обучения для решения других задач исследования."
   ]
  }
 ],
 "metadata": {
  "kernelspec": {
   "display_name": "Python 3 (ipykernel)",
   "language": "python",
   "name": "python3"
  },
  "language_info": {
   "codemirror_mode": {
    "name": "ipython",
    "version": 3
   },
   "file_extension": ".py",
   "mimetype": "text/x-python",
   "name": "python",
   "nbconvert_exporter": "python",
   "pygments_lexer": "ipython3",
   "version": "3.12.4"
  }
 },
 "nbformat": 4,
 "nbformat_minor": 5
}
